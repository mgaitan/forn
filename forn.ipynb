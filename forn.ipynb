{
 "metadata": {
  "name": "",
  "signature": "sha256:39c3292bdaed3c38cf1c96638463ec9dff283f7c2beb2ffc4f289ea0457b496e"
 },
 "nbformat": 3,
 "nbformat_minor": 0,
 "worksheets": [
  {
   "cells": [
    {
     "cell_type": "code",
     "collapsed": false,
     "input": [
      "from pyquery import PyQuery\n",
      "import requests"
     ],
     "language": "python",
     "metadata": {},
     "outputs": [],
     "prompt_number": 7
    },
    {
     "cell_type": "code",
     "collapsed": false,
     "input": [
      "pq = PyQuery(open('busqueda.html').read())"
     ],
     "language": "python",
     "metadata": {},
     "outputs": [],
     "prompt_number": 2
    },
    {
     "cell_type": "code",
     "collapsed": false,
     "input": [
      "pq.make_links_absolute('http://www.pagina12.com.ar/')"
     ],
     "language": "python",
     "metadata": {},
     "outputs": [
      {
       "metadata": {},
       "output_type": "pyout",
       "prompt_number": 3,
       "text": [
        "[<div>]"
       ]
      }
     ],
     "prompt_number": 3
    },
    {
     "cell_type": "code",
     "collapsed": false,
     "input": [
      "links = [a.attrib['href'] for a in pq('h3 a')]"
     ],
     "language": "python",
     "metadata": {},
     "outputs": [],
     "prompt_number": 4
    },
    {
     "cell_type": "code",
     "collapsed": false,
     "input": [
      "pq = PyQuery(requests.get(links[0]).content)"
     ],
     "language": "python",
     "metadata": {},
     "outputs": [],
     "prompt_number": 9
    },
    {
     "cell_type": "code",
     "collapsed": false,
     "input": [
      "def nota_pagina(url):\n",
      "    pq = PyQuery(requests.get(url).content)\n",
      "    pq.make_links_absolute('http://www.pagina12.com.ar/')\n",
      "    data = {}\n",
      "    data['contenido'] = pq('div#cuerpo').html().replace(' class=\"margen0\"', '').replace('<br />&#13;\\n', '</p></p>')\n",
      "    if not data['contenido'].startswith('<p>'):\n",
      "        data['contenido'] = '<p>' + data['contenido'] + '</p>'\n",
      "    data['foto'] = pq('.foto_nota img').attr('src')\n",
      "    data['titulo'] = pq('h2').text()\n",
      "    data['fecha'] = pq('.fecha_edicion').text()\n",
      "    data['autor'] = pq('.autor:first').text().replace('Por\\xa0', '')\n",
      "    return data"
     ],
     "language": "python",
     "metadata": {},
     "outputs": [],
     "prompt_number": 38
    },
    {
     "cell_type": "code",
     "collapsed": false,
     "input": [
      "data = [nota_pagina(link) for link in links]"
     ],
     "language": "python",
     "metadata": {},
     "outputs": [],
     "prompt_number": 40
    },
    {
     "cell_type": "code",
     "collapsed": false,
     "input": [
      "from ebooklib import epub\n",
      "\n",
      "book = epub.EpubBook()\n",
      "\n",
      "# set metadata\n",
      "book.set_identifier('forn_20150123')\n",
      "book.set_title('Juan Forn - Contratapas')\n",
      "book.set_language('es')\n",
      "\n",
      "book.add_author('Juan Forn')\n",
      "\n",
      "chapters = []\n",
      "for i, ch in enumerate(data):\n",
      "    # create chapter\n",
      "    c1 = epub.EpubHtml(title=ch['titulo'], file_name='chap_%02i.xhtml' % i)\n",
      "    c1.content=u'<h1>{titulo}</h1>{contenido}<p class=\"small\"><i>Publicado el {fecha}</p>'.format(**ch)\n",
      "    # add chapter\n",
      "    book.add_item(c1)\n",
      "    chapters.append(c1)\n",
      "\n",
      "\n",
      "# add default NCX and Nav file\n",
      "book.add_item(epub.EpubNcx())\n",
      "book.add_item(epub.EpubNav())\n",
      "\n",
      "# define CSS style\n",
      "\n",
      "# define css style\n",
      "style = '''\n",
      "@namespace epub \"http://www.idpf.org/2007/ops\";\n",
      "body {\n",
      "font-family: Cambria, Liberation Serif, Bitstream Vera Serif, Georgia, Times, Times New Roman, serif;\n",
      "}\n",
      "h1 {\n",
      "text-align: left;\n",
      "text-transform: uppercase;\n",
      "font-weight: 200;\n",
      "}\n",
      "ol {\n",
      "list-style-type: none;\n",
      "}\n",
      "ol > li:first-child {\n",
      "margin-top: 0.3em;\n",
      "}\n",
      "nav[epub|type~='toc'] > ol > li > ol {\n",
      "list-style-type:square;\n",
      "}\n",
      "nav[epub|type~='toc'] > ol > li > ol > li {\n",
      "margin-top: 0.3em;\n",
      "}\n",
      "p.small {font-size: 0.7em}\n",
      "'''\n",
      "# add css file\n",
      "nav_css = epub.EpubItem(uid=\"style_nav\", file_name=\"style/nav.css\", media_type=\"text/css\", content=style)\n",
      "book.add_item(nav_css)\n",
      "# create spine\n",
      "book.spine = ['nav'] + chapters\n",
      "\n",
      "# create epub file\n",
      "epub.write_epub('forn_contratapas.epub', book, {})"
     ],
     "language": "python",
     "metadata": {},
     "outputs": [],
     "prompt_number": 49
    },
    {
     "cell_type": "code",
     "collapsed": false,
     "input": [
      "!ebook-viewer forn_contratapas.epub"
     ],
     "language": "python",
     "metadata": {},
     "outputs": [
      {
       "output_type": "stream",
       "stream": "stdout",
       "text": [
        "InputFormatPlugin: EPUB Input running\r\n",
        "on /home/tin/lab/forn/test.epub\r\n"
       ]
      },
      {
       "output_type": "stream",
       "stream": "stdout",
       "text": [
        "load glyph failed err=6 face=0x31c6230, glyph=1912\r\n"
       ]
      },
      {
       "output_type": "stream",
       "stream": "stdout",
       "text": [
        "load glyph failed err=6 face=0x3b5a8f0, glyph=1912\r\n"
       ]
      },
      {
       "output_type": "stream",
       "stream": "stdout",
       "text": [
        "Segmentation fault (core dumped)\r\n"
       ]
      }
     ],
     "prompt_number": 47
    },
    {
     "cell_type": "code",
     "collapsed": false,
     "input": [
      "import json"
     ],
     "language": "python",
     "metadata": {},
     "outputs": [],
     "prompt_number": 58
    },
    {
     "cell_type": "code",
     "collapsed": false,
     "input": [
      "json.dump(data, open('contratapas.json', 'w'))"
     ],
     "language": "python",
     "metadata": {},
     "outputs": [],
     "prompt_number": 59
    },
    {
     "cell_type": "code",
     "collapsed": false,
     "input": [],
     "language": "python",
     "metadata": {},
     "outputs": []
    }
   ],
   "metadata": {}
  }
 ]
}