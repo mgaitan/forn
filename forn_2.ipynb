{
 "cells": [
  {
   "cell_type": "code",
   "execution_count": 1,
   "id": "f1a16821",
   "metadata": {
    "collapsed": false,
    "jupyter": {
     "outputs_hidden": false
    }
   },
   "outputs": [],
   "source": [
    "from pyquery import PyQuery\n",
    "import requests"
   ]
  },
  {
   "cell_type": "code",
   "execution_count": 2,
   "id": "da7106bf-884a-4d44-b451-88d115e2047b",
   "metadata": {},
   "outputs": [],
   "source": [
    "page = \"https://www.pagina12.com.ar/autores/861-juan-forn\"\n"
   ]
  },
  {
   "cell_type": "code",
   "execution_count": 3,
   "id": "5854d214-bd9f-4edd-9029-890855871173",
   "metadata": {},
   "outputs": [],
   "source": [
    "import json\n",
    "viejos = json.load(open(\"contratapas.json\"))"
   ]
  },
  {
   "cell_type": "code",
   "execution_count": 5,
   "id": "f55e8f2d-baf2-4fcd-8b5e-3156c3a0bc13",
   "metadata": {},
   "outputs": [],
   "source": [
    "viejos = [d[\"titulo\"] for d in viejos]"
   ]
  },
  {
   "cell_type": "code",
   "execution_count": 21,
   "id": "a6375116-2202-4240-939e-7f8871663392",
   "metadata": {},
   "outputs": [
    {
     "name": "stdout",
     "output_type": "stream",
     "text": [
      "0\n",
      "1\n",
      "2\n",
      "3\n",
      "4\n",
      "5\n",
      "6\n",
      "7\n",
      "8\n",
      "9\n"
     ]
    }
   ],
   "source": [
    "url = \"https://www.pagina12.com.ar/autores/861-juan-forn\"\n",
    "page = 0\n",
    "links = []\n",
    "while True: \n",
    "    params = {\"page\": page} if page else None\n",
    "    listing = requests.get(url, params=params).content\n",
    "    print(page)\n",
    "    pq = PyQuery(listing)\n",
    "    pq.make_links_absolute('http://www.pagina12.com.ar/')\n",
    "    \n",
    "    new_links = [a.attrib['href'] for a in pq('h4 a, h3 a') if a.text not in viejos]\n",
    "    if not new_links:\n",
    "        break\n",
    "        \n",
    "    links.extend(new_links)\n",
    "    page += 1    \n",
    "    "
   ]
  },
  {
   "cell_type": "code",
   "execution_count": 22,
   "id": "245e5019-cc42-4d24-b82c-43161785e35c",
   "metadata": {},
   "outputs": [
    {
     "data": {
      "text/plain": [
       "95"
      ]
     },
     "execution_count": 22,
     "metadata": {},
     "output_type": "execute_result"
    }
   ],
   "source": [
    "len(links)"
   ]
  },
  {
   "cell_type": "code",
   "execution_count": 44,
   "id": "b4d9d1e5",
   "metadata": {
    "collapsed": false,
    "jupyter": {
     "outputs_hidden": false
    }
   },
   "outputs": [],
   "source": [
    "def nota_pagina(url):\n",
    "    pq = PyQuery(requests.get(url).content)\n",
    "    pq.make_links_absolute('http://www.pagina12.com.ar/')\n",
    "    data = {}\n",
    "    data['contenido'] = pq('.article-text').html()\n",
    "    data['foto'] = pq('.article-main-media-image img.show-for-large-only').attr('data-src')\n",
    "    data['titulo'] = pq('h1.article-title').text()\n",
    "    data['fecha'] = pq('div.time').text()\n",
    "    data['autor'] = pq('.article-author:first a').text()\n",
    "    return data"
   ]
  },
  {
   "cell_type": "code",
   "execution_count": 45,
   "id": "91252de3",
   "metadata": {
    "collapsed": false,
    "jupyter": {
     "outputs_hidden": false
    }
   },
   "outputs": [],
   "source": [
    "data = [nota_pagina(link) for link in links]"
   ]
  },
  {
   "cell_type": "code",
   "execution_count": 46,
   "id": "00329e17",
   "metadata": {
    "collapsed": false,
    "jupyter": {
     "outputs_hidden": false
    }
   },
   "outputs": [],
   "source": [
    "from ebooklib import epub\n",
    "\n",
    "book = epub.EpubBook()\n",
    "\n",
    "# set metadata\n",
    "book.set_identifier('forn_20210420')\n",
    "book.set_title('Juan Forn - Contratapas 2')\n",
    "book.set_language('es')\n",
    "\n",
    "book.add_author('Juan Forn')\n",
    "\n",
    "chapters = []\n",
    "for i, ch in enumerate(data):\n",
    "    # create chapter\n",
    "    c1 = epub.EpubHtml(title=ch['titulo'], file_name='chap_%02i.xhtml' % i)\n",
    "    c1.content=u'<h1>{titulo}</h1>{contenido}<p class=\"small\"><i>Publicado el {fecha}</p>'.format(**ch)\n",
    "    # add chapter\n",
    "    book.add_item(c1)\n",
    "    chapters.append(c1)\n",
    "\n",
    "\n",
    "# add default NCX and Nav file\n",
    "book.add_item(epub.EpubNcx())\n",
    "book.add_item(epub.EpubNav())\n",
    "\n",
    "# define CSS style\n",
    "\n",
    "# define css style\n",
    "style = '''\n",
    "@namespace epub \"http://www.idpf.org/2007/ops\";\n",
    "body {\n",
    "font-family: Cambria, Liberation Serif, Bitstream Vera Serif, Georgia, Times, Times New Roman, serif;\n",
    "}\n",
    "h1 {\n",
    "text-align: left;\n",
    "text-transform: uppercase;\n",
    "font-weight: 200;\n",
    "}\n",
    "ol {\n",
    "list-style-type: none;\n",
    "}\n",
    "ol > li:first-child {\n",
    "margin-top: 0.3em;\n",
    "}\n",
    "nav[epub|type~='toc'] > ol > li > ol {\n",
    "list-style-type:square;\n",
    "}\n",
    "nav[epub|type~='toc'] > ol > li > ol > li {\n",
    "margin-top: 0.3em;\n",
    "}\n",
    "p.small {font-size: 0.7em}\n",
    "'''\n",
    "# add css file\n",
    "nav_css = epub.EpubItem(uid=\"style_nav\", file_name=\"style/nav.css\", media_type=\"text/css\", content=style)\n",
    "book.add_item(nav_css)\n",
    "# create spine\n",
    "book.spine = ['nav'] + chapters\n",
    "\n",
    "# create epub file\n",
    "epub.write_epub('forn_contratapas_2.epub', book, {})"
   ]
  },
  {
   "cell_type": "code",
   "execution_count": 47,
   "id": "789ef0aa",
   "metadata": {
    "collapsed": false,
    "jupyter": {
     "outputs_hidden": false
    }
   },
   "outputs": [
    {
     "name": "stdout",
     "output_type": "stream",
     "text": [
      "InputFormatPlugin: EPUB Input running\n",
      "on /home/tin/lab/forn/test.epub\n",
      "load glyph failed err=6 face=0x31c6230, glyph=1912\n",
      "load glyph failed err=6 face=0x3b5a8f0, glyph=1912\n",
      "Segmentation fault (core dumped)\n"
     ]
    }
   ],
   "source": [
    "!ebook-viewer forn_contratapas.epub"
   ]
  },
  {
   "cell_type": "code",
   "execution_count": 58,
   "id": "3852e963",
   "metadata": {
    "collapsed": false,
    "jupyter": {
     "outputs_hidden": false
    }
   },
   "outputs": [],
   "source": [
    "import json"
   ]
  },
  {
   "cell_type": "code",
   "execution_count": 59,
   "id": "8fb50717",
   "metadata": {
    "collapsed": false,
    "jupyter": {
     "outputs_hidden": false
    }
   },
   "outputs": [],
   "source": [
    "json.dump(data, open('contratapas_2.json', 'w'))"
   ]
  },
  {
   "cell_type": "code",
   "execution_count": null,
   "id": "8f7cb754",
   "metadata": {
    "collapsed": false,
    "jupyter": {
     "outputs_hidden": false
    }
   },
   "outputs": [],
   "source": []
  }
 ],
 "metadata": {
  "kernelspec": {
   "display_name": "Python 3",
   "language": "python",
   "name": "python3"
  },
  "language_info": {
   "codemirror_mode": {
    "name": "ipython",
    "version": 3
   },
   "file_extension": ".py",
   "mimetype": "text/x-python",
   "name": "python",
   "nbconvert_exporter": "python",
   "pygments_lexer": "ipython3",
   "version": "3.8.6"
  }
 },
 "nbformat": 4,
 "nbformat_minor": 5
}
